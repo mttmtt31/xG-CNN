{
 "cells": [
  {
   "cell_type": "markdown",
   "metadata": {},
   "source": [
    "# xG CNN - All Messi's shots in La Liga 2020/2021\n",
    "\n",
    "### By Matteo Matteotti \\& Hadi Sotudeh\n",
    "\n",
    "This notebook script will allow you to load pretrained xG-CNN model and use it to compute the expected goals for each shot taken by Lionel Messi in his last season in Barcelona. 🐐"
   ]
  },
  {
   "cell_type": "code",
   "execution_count": 1,
   "metadata": {},
   "outputs": [],
   "source": [
    "from statsbombpy import sb\n",
    "from tqdm import tqdm\n",
    "import warnings\n",
    "warnings.filterwarnings(\"ignore\")\n",
    "import numpy as np\n",
    "import math\n",
    "import pandas as pd\n",
    "import torch\n",
    "from torch.utils.data import DataLoader\n",
    "from src import load_model, load_heatmap_dataset\n"
   ]
  },
  {
   "cell_type": "markdown",
   "metadata": {},
   "source": [
    "Create a dictionary of shots which will be later turned into heatmaps using numpy."
   ]
  },
  {
   "cell_type": "code",
   "execution_count": 2,
   "metadata": {},
   "outputs": [
    {
     "name": "stderr",
     "output_type": "stream",
     "text": [
      "Scanning games, looking for shots.: 100%|██████████| 35/35 [00:28<00:00,  1.25it/s]\n"
     ]
    }
   ],
   "source": [
    "# create a json\n",
    "dict_shots = {}\n",
    "\n",
    "# get data last Messi's season in Barcelona 2020/2021\n",
    "all_matches = sb.matches(competition_id=11, season_id=90)['match_id'].tolist()\n",
    "\n",
    "# for every game\n",
    "for match_id in tqdm(all_matches, total = len(all_matches), desc = 'Scanning games, looking for shots.'):\n",
    "    # extract all shots\n",
    "    df_shots = sb.events(match_id, split=True)['shots']\n",
    "    # isolate open-play shots by messi\n",
    "    df_shots = df_shots.loc[(~df_shots['shot_freeze_frame'].isna()) & (df_shots['shot_type'] == 'Open Play') & (df_shots['player_id'] == 5503), ['index', 'location', 'shot_freeze_frame', 'shot_outcome']].reset_index(drop = True)\n",
    "    # for every Messi's shot\n",
    "    for _, shot in df_shots.iterrows():\n",
    "        # create shot dictionary\n",
    "        shot_dict = {str(index): dictionary for index, dictionary in enumerate(shot['shot_freeze_frame'])}\n",
    "        shot_dict['ball'] = shot['location']\n",
    "        shot_dict['outcome'] = shot[\"shot_outcome\"].lower()\n",
    "        shot_name = f'{match_id}_{shot[\"index\"]}'\n",
    "        shot_dict['match_id'] = match_id\n",
    "        shot_dict['index'] = shot['index']\n",
    "        dict_shots[shot_name] = shot_dict\n"
   ]
  },
  {
   "cell_type": "markdown",
   "metadata": {},
   "source": [
    "Turn the dictionary into heatmaps."
   ]
  },
  {
   "cell_type": "code",
   "execution_count": 3,
   "metadata": {},
   "outputs": [
    {
     "name": "stderr",
     "output_type": "stream",
     "text": [
      "100%|██████████| 150/150 [00:00<00:00, 30655.64it/s]\n"
     ]
    }
   ],
   "source": [
    "# create the array of shots\n",
    "shots = np.zeros((len(dict_shots), 2, 30, 40))\n",
    "# keep track of the labels (goal or non goal)\n",
    "labels = []\n",
    "# iterate over every shot\n",
    "for i, (shot_name, shot) in enumerate(tqdm(dict_shots.items())):\n",
    "    # create the heatmap of the shot\n",
    "    shot_frame = np.zeros((2, 60, 40))\n",
    "    # add the ball location, after having discretised its location\n",
    "    ball_discrete_x = min(math.floor(shot['ball'][0] / 2), 59)\n",
    "    ball_discrete_y = min(math.floor(shot['ball'][1] / 2), 39)\n",
    "    shot_frame[1, ball_discrete_x, ball_discrete_y] = 1\n",
    "    # iterate over every player\n",
    "    for player_id, player in shot.items():\n",
    "        # make sure this is actually a player\n",
    "        if player_id not in ['ball', 'outcome', 'match_id', 'index']:\n",
    "            # only consider opponents\n",
    "            if not player['teammate']:\n",
    "                # add the player in the corresponding location, after having discretised it\n",
    "                discrete_x = min(math.floor(player['location'][0] / 2), 59)\n",
    "                discrete_y = min(math.floor(player['location'][1] / 2), 39)\n",
    "                # add the player in the right location, only if they are actually closer to the goal than the ball or if they are in a 1x1 neighbourhood around the ball\n",
    "                if (discrete_x >= ball_discrete_x) or (discrete_x >= ball_discrete_x - 1 and abs(discrete_y - ball_discrete_y) <= 1):\n",
    "                    shot_frame[0, discrete_x, discrete_y] += 1\n",
    "    \n",
    "    # all players have been added, crop out the defensive half\n",
    "    cropped_shot_frame = shot_frame[:, 30:, :]\n",
    "    # # add it to the global array of shots, after having smoothed it out using gaussian smoothing filter\n",
    "    # all_shot_frames[i] = gaussian_filter(cropped_shot_frame, sigma = (0, .75, .75))\n",
    "    # add it to the global array of shots, after having smoothed it out using gaussian smoothing filter\n",
    "    shots[i] = cropped_shot_frame\n",
    "    # add the label (goal or nongoal)\n",
    "    labels.append(0 if shot_name.startswith('n') else 1)\n",
    "\n",
    "np.save('data/messi_shots.npy', shots)\n",
    "np.save('data/messi_labels.npy', labels)"
   ]
  },
  {
   "cell_type": "markdown",
   "metadata": {},
   "source": [
    "Load the model"
   ]
  },
  {
   "cell_type": "code",
   "execution_count": 4,
   "metadata": {},
   "outputs": [],
   "source": [
    "# remember to set the device here, whether you are using a cpu or cuda\n",
    "device = 'cpu'"
   ]
  },
  {
   "cell_type": "code",
   "execution_count": 5,
   "metadata": {},
   "outputs": [
    {
     "data": {
      "text/plain": [
       "XGCNN(\n",
       "  (conv_layer_1): Sequential(\n",
       "    (0): Conv2d(2, 16, kernel_size=(3, 3), stride=(1, 1))\n",
       "    (1): BatchNorm2d(16, eps=1e-05, momentum=0.1, affine=True, track_running_stats=True)\n",
       "    (2): ReLU()\n",
       "  )\n",
       "  (pooling_1): MaxPool2d(kernel_size=2, stride=2, padding=0, dilation=1, ceil_mode=False)\n",
       "  (conv_layer_2): Sequential(\n",
       "    (0): Conv2d(16, 32, kernel_size=(3, 3), stride=(1, 1))\n",
       "    (1): BatchNorm2d(32, eps=1e-05, momentum=0.1, affine=True, track_running_stats=True)\n",
       "    (2): ReLU()\n",
       "  )\n",
       "  (pooling_2): MaxPool2d(kernel_size=2, stride=2, padding=0, dilation=1, ceil_mode=False)\n",
       "  (conv_layer_3): Sequential(\n",
       "    (0): Conv2d(32, 64, kernel_size=(3, 3), stride=(1, 1))\n",
       "    (1): BatchNorm2d(64, eps=1e-05, momentum=0.1, affine=True, track_running_stats=True)\n",
       "    (2): ReLU()\n",
       "  )\n",
       "  (pooling_3): MaxPool2d(kernel_size=2, stride=2, padding=0, dilation=1, ceil_mode=False)\n",
       "  (conv_layer_4): Sequential(\n",
       "    (0): Conv2d(64, 128, kernel_size=(1, 1), stride=(1, 1))\n",
       "    (1): BatchNorm2d(128, eps=1e-05, momentum=0.1, affine=True, track_running_stats=True)\n",
       "    (2): ReLU()\n",
       "  )\n",
       "  (fc): Sequential(\n",
       "    (0): Flatten(start_dim=1, end_dim=-1)\n",
       "    (1): Linear(in_features=768, out_features=64, bias=True)\n",
       "    (2): ReLU()\n",
       "    (3): Dropout(p=0.0, inplace=False)\n",
       "    (4): Linear(in_features=64, out_features=1, bias=True)\n",
       "    (5): Sigmoid()\n",
       "  )\n",
       ")"
      ]
     },
     "execution_count": 5,
     "metadata": {},
     "output_type": "execute_result"
    }
   ],
   "source": [
    "model_dict = torch.load('trained_models/xg_cnn.pth', map_location=torch.device(device))\n",
    "xg_cnn = load_model()\n",
    "xg_cnn.load_state_dict(model_dict)\n",
    "# put the model in evaluation mode\n",
    "xg_cnn.eval()"
   ]
  },
  {
   "cell_type": "markdown",
   "metadata": {},
   "source": [
    "Load the dataset into torch and apply the model"
   ]
  },
  {
   "cell_type": "code",
   "execution_count": 6,
   "metadata": {},
   "outputs": [],
   "source": [
    "dataset = load_heatmap_dataset(data_path='data/messi_shots.npy', labels_path='data/messi_labels.npy', augmentation=False, g_filter=1.25)\n",
    "shots_loader = DataLoader(dataset, batch_size=100, shuffle=False)\n"
   ]
  },
  {
   "cell_type": "code",
   "execution_count": 7,
   "metadata": {},
   "outputs": [
    {
     "name": "stderr",
     "output_type": "stream",
     "text": [
      "100%|██████████| 2/2 [00:00<00:00, 26.61it/s]\n"
     ]
    }
   ],
   "source": [
    "xGs = []\n",
    "    \n",
    "with torch.no_grad():\n",
    "    for images, labels in tqdm(shots_loader, total = len(shots_loader)):\n",
    "        # send to device\n",
    "        images, labels = images.to(device), labels.to(device)\n",
    "        # compute the xg\n",
    "        outputs = xg_cnn(images)\n",
    "        # append the xG\n",
    "        xGs.append(outputs.squeeze())"
   ]
  },
  {
   "cell_type": "code",
   "execution_count": 8,
   "metadata": {},
   "outputs": [
    {
     "data": {
      "text/html": [
       "<div>\n",
       "<style scoped>\n",
       "    .dataframe tbody tr th:only-of-type {\n",
       "        vertical-align: middle;\n",
       "    }\n",
       "\n",
       "    .dataframe tbody tr th {\n",
       "        vertical-align: top;\n",
       "    }\n",
       "\n",
       "    .dataframe thead th {\n",
       "        text-align: right;\n",
       "    }\n",
       "</style>\n",
       "<table border=\"1\" class=\"dataframe\">\n",
       "  <thead>\n",
       "    <tr style=\"text-align: right;\">\n",
       "      <th></th>\n",
       "      <th>match_id</th>\n",
       "      <th>index</th>\n",
       "      <th>xG</th>\n",
       "    </tr>\n",
       "  </thead>\n",
       "  <tbody>\n",
       "    <tr>\n",
       "      <th>0</th>\n",
       "      <td>3773386</td>\n",
       "      <td>1749</td>\n",
       "      <td>0.082750</td>\n",
       "    </tr>\n",
       "    <tr>\n",
       "      <th>1</th>\n",
       "      <td>3773386</td>\n",
       "      <td>2003</td>\n",
       "      <td>0.052889</td>\n",
       "    </tr>\n",
       "    <tr>\n",
       "      <th>2</th>\n",
       "      <td>3773386</td>\n",
       "      <td>2146</td>\n",
       "      <td>0.027046</td>\n",
       "    </tr>\n",
       "    <tr>\n",
       "      <th>3</th>\n",
       "      <td>3773386</td>\n",
       "      <td>2685</td>\n",
       "      <td>0.165181</td>\n",
       "    </tr>\n",
       "    <tr>\n",
       "      <th>4</th>\n",
       "      <td>3773386</td>\n",
       "      <td>3727</td>\n",
       "      <td>0.028766</td>\n",
       "    </tr>\n",
       "    <tr>\n",
       "      <th>...</th>\n",
       "      <td>...</td>\n",
       "      <td>...</td>\n",
       "      <td>...</td>\n",
       "    </tr>\n",
       "    <tr>\n",
       "      <th>145</th>\n",
       "      <td>3764440</td>\n",
       "      <td>3114</td>\n",
       "      <td>0.391903</td>\n",
       "    </tr>\n",
       "    <tr>\n",
       "      <th>146</th>\n",
       "      <td>3773689</td>\n",
       "      <td>800</td>\n",
       "      <td>0.030031</td>\n",
       "    </tr>\n",
       "    <tr>\n",
       "      <th>147</th>\n",
       "      <td>3773689</td>\n",
       "      <td>2494</td>\n",
       "      <td>0.099656</td>\n",
       "    </tr>\n",
       "    <tr>\n",
       "      <th>148</th>\n",
       "      <td>3773477</td>\n",
       "      <td>3401</td>\n",
       "      <td>0.086078</td>\n",
       "    </tr>\n",
       "    <tr>\n",
       "      <th>149</th>\n",
       "      <td>3773477</td>\n",
       "      <td>3548</td>\n",
       "      <td>0.093181</td>\n",
       "    </tr>\n",
       "  </tbody>\n",
       "</table>\n",
       "<p>150 rows × 3 columns</p>\n",
       "</div>"
      ],
      "text/plain": [
       "    match_id index        xG\n",
       "0    3773386  1749  0.082750\n",
       "1    3773386  2003  0.052889\n",
       "2    3773386  2146  0.027046\n",
       "3    3773386  2685  0.165181\n",
       "4    3773386  3727  0.028766\n",
       "..       ...   ...       ...\n",
       "145  3764440  3114  0.391903\n",
       "146  3773689   800  0.030031\n",
       "147  3773689  2494  0.099656\n",
       "148  3773477  3401  0.086078\n",
       "149  3773477  3548  0.093181\n",
       "\n",
       "[150 rows x 3 columns]"
      ]
     },
     "execution_count": 8,
     "metadata": {},
     "output_type": "execute_result"
    }
   ],
   "source": [
    "# create a dataframe\n",
    "df_shots = pd.DataFrame({\n",
    "    'shot_name' : list(dict_shots.keys()),\n",
    "    'xG' : torch.cat(xGs).tolist()\n",
    "})\n",
    "# split the shot name to get match_id and index, for better consultability\n",
    "df_shots[['match_id', 'index']] = df_shots['shot_name'].str.split('_', expand = True)\n",
    "df_shots = df_shots.drop(columns = ['shot_name'])[['match_id', 'index', 'xG']]\n",
    "df_shots"
   ]
  },
  {
   "cell_type": "code",
   "execution_count": null,
   "metadata": {},
   "outputs": [],
   "source": []
  }
 ],
 "metadata": {
  "kernelspec": {
   "display_name": "venv",
   "language": "python",
   "name": "python3"
  },
  "language_info": {
   "codemirror_mode": {
    "name": "ipython",
    "version": 3
   },
   "file_extension": ".py",
   "mimetype": "text/x-python",
   "name": "python",
   "nbconvert_exporter": "python",
   "pygments_lexer": "ipython3",
   "version": "3.11.4"
  },
  "orig_nbformat": 4
 },
 "nbformat": 4,
 "nbformat_minor": 2
}
